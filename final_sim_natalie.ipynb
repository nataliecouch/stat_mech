{
 "cells": [
  {
   "cell_type": "code",
   "execution_count": 1,
   "metadata": {},
   "outputs": [],
   "source": [
    "import numpy as np\n",
    "import matplotlib.pyplot as plt"
   ]
  },
  {
   "cell_type": "code",
   "execution_count": 2,
   "metadata": {},
   "outputs": [],
   "source": [
    "# Define the class for Lattice\n",
    "class Lattice(object):\n",
    "    \"\"\"A user-defined data structure that stores and manipulates lattice (2D - arrays)\n",
    "    \"\"\"\n",
    "\n",
    "    def __init__(self, width, height, p):\n",
    "        \"\"\"Constructs a board of width and height\"\"\"\n",
    "        self.height = height\n",
    "        self.width = width\n",
    "        self.data = np.random.rand(self.height, self.width)\n",
    "        self.p = p\n",
    "        self.clusters = []\n",
    "        self.visited = set()\n",
    "\n",
    "        for i in range(0, height):\n",
    "            for j in range(0, width):\n",
    "                # if a random number is less than the probability picked, fill the lattice\n",
    "                if self.data[i][j] <= self.p: \n",
    "                    self.data[i][j] = 1\n",
    "                else:\n",
    "                    self.data[i][j] = 0\n",
    "    \n",
    "    def __repr__(self):\n",
    "        \"\"\"Creates a 2D representation of the board object\"\"\"\n",
    "        plt.imshow(self.data, cmap='gray')\n",
    "        plt.show()\n",
    "        return \"\"\n",
    "    \n",
    "\n",
    "    def clear(self):\n",
    "        \"\"\"clears the board, making the board only contain ' ' strings\n",
    "        Return: nothing, the 2D array is changed\n",
    "        \"\"\"\n",
    "        for i in range(0, self.height):\n",
    "            for j in range(0, self.width):\n",
    "                # clears the data and all of the arrays that have to do with the data\n",
    "                self.data[i][j] = 0\n",
    "                self.clusters = []\n",
    "                self.visited.clear()\n",
    "                \n",
    "    def random_populate(self, new_p):\n",
    "        self.data = np.random.rand(self.height, self.width)\n",
    "        for i in range(0, self.height):\n",
    "            for j in range(0, self.width):\n",
    "                # if a random number is less than the probability picked, fill the lattice\n",
    "                if self.data[i][j] <= new_p: \n",
    "                    self.data[i][j] = 1\n",
    "                else:\n",
    "                    self.data[i][j] = 0\n",
    "        return self\n",
    "    \n",
    "    def populate(self, new_data):\n",
    "        '''populates a lattice with an nxm list of lists'''\n",
    "        self.data = new_data\n",
    "    \n",
    "    def get_data(self):\n",
    "        '''returns information in the lattice as a list of lists'''\n",
    "        return self.data\n",
    "    \n",
    "    def color_spanning_cluster(self):\n",
    "        \"\"\"Colors spanning clusters \"\"\"\n",
    "        num_clusters, clusters, spanning = self.get_clusters()\n",
    "        span_data = self.data\n",
    "        if spanning != []:\n",
    "            for i in range(self.height):\n",
    "                for j in range(self.width):\n",
    "                    if (i, j) in spanning[0]:\n",
    "                        span_data[i][j] = -1\n",
    "            plt.imshow(span_data, cmap='gray')\n",
    "            plt.show()\n",
    "        return \"\"\n",
    "\n",
    "    def get_clusters(self):\n",
    "        \"\"\"From a lattice, returns the number of clusters, the list of clusters and the tuples for each cell that\n",
    "        makes up the cluster, and any spanning cluster. \"\"\"\n",
    "        \n",
    "        span_clusters = []\n",
    "        \n",
    "        # find all clusters, double counting is ok\n",
    "        for i in range(self.height):\n",
    "            for j in range(self.width):\n",
    "                if self.data[i][j] == 1 and (i, j) not in self.visited:\n",
    "                    cluster = self.finish_cluster(i,j)\n",
    "                    self.clusters.append(cluster)\n",
    "\n",
    "        # assume we are always doing squares\n",
    "        for cluster in self.clusters:\n",
    "            if len(cluster) >= self.height and cluster not in span_clusters:\n",
    "                for cell in cluster:\n",
    "                    # if the cluster has a cell at row = 0 and col = 0\n",
    "                    if cell[0] == 0 and cell[1] == 0:\n",
    "                        for second_cell in cluster:\n",
    "                            if (second_cell[0] == self.width - 1) or (second_cell[1] == self.height - 1):\n",
    "                                if cluster not in span_clusters:\n",
    "                                    span_clusters.append(cluster)\n",
    "                                break\n",
    "                        \n",
    "                    # if the cluster has a cell at col = 0\n",
    "                    if cell[0] == 0 and cell[1] != 0:\n",
    "                        for second_cell in cluster:\n",
    "                            if second_cell[0] == self.width - 1:\n",
    "                                if cluster not in span_clusters:\n",
    "                                    span_clusters.append(cluster)\n",
    "                                break\n",
    "                                \n",
    "                                \n",
    "                    # if the cluster has a cell at row = 0\n",
    "                    if cell[1] == 0 and cell[0] != 0:\n",
    "                        for second_cell in cluster:\n",
    "                            if second_cell[1] == self.height - 1:\n",
    "                                if cluster not in span_clusters:\n",
    "                                    span_clusters.append(cluster)\n",
    "                                break\n",
    "                                \n",
    "\n",
    "\n",
    "        \n",
    "        num_clusters = len(self.clusters)      \n",
    "        return num_clusters, self.clusters, span_clusters\n",
    "    \n",
    "    def finish_cluster(self, i, j):\n",
    "        \"\"\"Helper function to get_clusters. finish_cluster is a recursive function that returns all adjacent\n",
    "        cells to a given cell that read 1. Returns a list \"\"\"\n",
    "        returnList = []\n",
    "        stack = [(i, j)]\n",
    "        while stack: \n",
    "            # print(1)\n",
    "            # print(f\"Stack Before: {stack}\")\n",
    "            node = stack.pop(0)\n",
    "            r = node[0]\n",
    "            c = node[1]\n",
    "            if not (0 <= r < self.height and 0 <= c < self.width):\n",
    "                continue\n",
    "            if self.data[r][c] != 1 or (r, c) in self.visited:\n",
    "                continue\n",
    "            \n",
    "            self.visited.add((r, c))\n",
    "            returnList.append(node)\n",
    "            directions = [[1, 0], [0, 1], [-1, 0], [0, -1]]\n",
    "            for dr, dc in directions:\n",
    "                newRow = r + dr\n",
    "                newCol = c + dc\n",
    "                stack.append((newRow, newCol))\n",
    "            # print(f\"Stack After: {stack}\")\n",
    "        \n",
    "        return returnList\n",
    "\n"
   ]
  },
  {
   "cell_type": "code",
   "execution_count": 20,
   "metadata": {},
   "outputs": [
    {
     "name": "stdout",
     "output_type": "stream",
     "text": [
      "Number of clusters: 5\n",
      "Number of Spanning Clusters: 1\n"
     ]
    },
    {
     "data": {
      "image/png": "[encoded data removed]",
      "text/plain": [
       "<Figure size 432x288 with 1 Axes>"
      ]
     },
     "metadata": {
      "needs_background": "light"
     },
     "output_type": "display_data"
    },
    {
     "data": {
      "text/plain": []
     },
     "execution_count": 20,
     "metadata": {},
     "output_type": "execute_result"
    }
   ],
   "source": [
    "lattice = Lattice(10,10,0.6)\n",
    "#lattice.populate(LoL)\n",
    "num_clusters, clusters, spanning = lattice.get_clusters()\n",
    "print(f\"Number of clusters: {num_clusters}\")\n",
    "print(f\"Number of Spanning Clusters: {len(spanning)}\")\n",
    "lattice"
   ]
  },
  {
   "cell_type": "code",
   "execution_count": 119,
   "metadata": {},
   "outputs": [
    {
     "name": "stdout",
     "output_type": "stream",
     "text": [
      "Number of clusters: 7\n",
      "\n",
      "Clusters: \n",
      " [[(0, 0), (1, 0), (2, 0), (3, 0), (4, 0), (4, 1), (2, 1), (1, 1)], [(0, 3), (1, 3), (2, 3), (2, 4), (1, 4), (1, 5), (1, 6), (0, 6), (1, 7), (1, 8), (0, 8)], [(3, 5)], [(3, 8), (4, 8), (5, 8), (6, 8), (7, 8), (8, 8), (8, 7), (7, 7), (7, 6), (6, 6), (5, 6), (8, 6), (9, 6), (9, 5), (8, 5), (8, 4), (9, 4), (9, 3), (8, 3), (7, 3), (6, 3), (6, 4), (5, 4), (7, 2), (9, 2), (9, 1), (8, 1), (8, 0), (9, 0), (6, 9), (4, 9), (3, 9), (4, 7)], [(4, 3)], [(6, 0)], [(9, 9)]]\n",
      "\n",
      "Number of Spanning Clusters: 0\n",
      "\n",
      "Spanning Clusters: \n",
      " []\n"
     ]
    }
   ],
   "source": [
    "num_clusters, clusters, spanning = lattice.get_clusters()\n",
    "\n",
    "print(f\"Number of clusters: {num_clusters}\")\n",
    "print()\n",
    "print(f\"Clusters: \\n {clusters}\")\n",
    "print()\n",
    "print(f\"Number of Spanning Clusters: {len(spanning)}\")\n",
    "print()\n",
    "print(f\"Spanning Clusters: \\n {spanning}\")"
   ]
  },
  {
   "cell_type": "code",
   "execution_count": 125,
   "metadata": {},
   "outputs": [
    {
     "data": {
      "image/png": "[encoded data removed]",
      "text/plain": [
       "<Figure size 432x288 with 1 Axes>"
      ]
     },
     "metadata": {
      "needs_background": "light"
     },
     "output_type": "display_data"
    },
    {
     "data": {
      "text/plain": []
     },
     "execution_count": 125,
     "metadata": {},
     "output_type": "execute_result"
    }
   ],
   "source": [
    "#LoL = lattice.get_data()\n",
    "#newlattice = Lattice(10,10,0)\n",
    "newlattice.populate(LoL)\n",
    "newlattice"
   ]
  },
  {
   "cell_type": "code",
   "execution_count": 128,
   "metadata": {},
   "outputs": [
    {
     "data": {
      "text/plain": [
       "0"
      ]
     },
     "execution_count": 128,
     "metadata": {},
     "output_type": "execute_result"
    }
   ],
   "source": [
    "newlattice\n",
    "len(newlattice.get_clusters()[2])"
   ]
  },
  {
   "cell_type": "code",
   "execution_count": 127,
   "metadata": {},
   "outputs": [
    {
     "name": "stdout",
     "output_type": "stream",
     "text": [
      "Number of clusters: 7\n",
      "\n",
      "Clusters: \n",
      " [[(0, 0), (1, 0), (2, 0), (3, 0), (4, 0), (4, 1), (2, 1), (1, 1)], [(0, 3), (1, 3), (2, 3), (2, 4), (1, 4), (1, 5), (1, 6), (0, 6), (1, 7), (1, 8), (0, 8)], [(3, 5)], [(3, 8), (4, 8), (5, 8), (6, 8), (7, 8), (8, 8), (8, 7), (7, 7), (7, 6), (6, 6), (5, 6), (8, 6), (9, 6), (9, 5), (8, 5), (8, 4), (9, 4), (9, 3), (8, 3), (7, 3), (6, 3), (6, 4), (5, 4), (7, 2), (9, 2), (9, 1), (8, 1), (8, 0), (9, 0), (6, 9), (4, 9), (3, 9), (4, 7)], [(4, 3)], [(6, 0)], [(9, 9)]]\n",
      "\n",
      "Number of Spanning Clusters: 0\n",
      "\n",
      "Spanning Clusters: \n",
      " []\n"
     ]
    }
   ],
   "source": [
    "num_clusters, clusters, spanning = newlattice.get_clusters()\n",
    "\n",
    "print(f\"Number of clusters: {num_clusters}\")\n",
    "print()\n",
    "print(f\"Clusters: \\n {clusters}\")\n",
    "print()\n",
    "print(f\"Number of Spanning Clusters: {len(spanning)}\")\n",
    "print()\n",
    "print(f\"Spanning Clusters: \\n {spanning}\")"
   ]
  },
  {
   "cell_type": "markdown",
   "metadata": {},
   "source": [
    "Now the idea is to use p = 0.6 on a lot of different sized arrays, and extract the average number of spanning clusters\n",
    "I need a function that takes in the number of trials and the board size. It could also take in p if I want to be able to change that more easily\n",
    "It will output a list of the number of spanning clusters in each trial"
   ]
  },
  {
   "cell_type": "code",
   "execution_count": 21,
   "metadata": {},
   "outputs": [],
   "source": [
    "def cbs(board_side_length, trials, p):\n",
    "    '''for a number of trials trials, makes a square board with side board_side_length and probability p, \n",
    "    and gives a list of the number of spanning clusters in each trial'''\n",
    "    output = []\n",
    "    for n in range(trials):\n",
    "        lattice = Lattice(board_side_length, board_side_length, p)\n",
    "        output += [len(lattice.get_clusters()[2])]\n",
    "        #print(lattice)\n",
    "        lattice.clear\n",
    "    return output"
   ]
  },
  {
   "cell_type": "code",
   "execution_count": 31,
   "metadata": {},
   "outputs": [],
   "source": [
    "def stdev(L):\n",
    "    '''returns the sample standard deviation of a list of numbers'''\n",
    "    mean = sum(L)/len(L)\n",
    "    devs = [] # will add squares of deviations\n",
    "    for x in L:\n",
    "        devs += [(x - mean)**2]\n",
    "    return np.sqrt(sum(devs)/(len(L)-1))"
   ]
  },
  {
   "cell_type": "code",
   "execution_count": 58,
   "metadata": {},
   "outputs": [
    {
     "name": "stdout",
     "output_type": "stream",
     "text": [
      "average number of spanning clusters: 0.75\n"
     ]
    }
   ],
   "source": [
    "L = cbs(20,100,.6)\n",
    "print(f\"average number of spanning clusters: {sum(L)/len(L)}\")\n",
    "#print(f\"standard deviation: {stdev(L)}\") # standard deviation of a bunch of 1's and 0's is useless\n",
    "# get average and standard deviation and plot for various board sizes\n",
    "\n",
    "# really, we want some kind of limiting value, with error, on what the average number of spanning clusters is \n",
    "# so I need a standard deviation on a bunch of trials on this\n",
    "# I run 100 trials a bunch of times, get an average and stdev on that, and plot it"
   ]
  },
  {
   "cell_type": "code",
   "execution_count": 94,
   "metadata": {},
   "outputs": [
    {
     "data": {
      "text/plain": [
       "(0.8300000000000002, 0.0827450499729087)"
      ]
     },
     "execution_count": 94,
     "metadata": {},
     "output_type": "execute_result"
    }
   ],
   "source": [
    "def data_generation(board_size, p):\n",
    "    '''trying to find the limiting value of the number of spanning clusters, with a confidence interval\n",
    "    going to work by doing a bunch of rounds of trials, then finding their mean and standard deviation'''\n",
    "    tpr = 30 # trials per round\n",
    "    rounds = 30 # number of rounds\n",
    "    L = [sum(cbs(board_size, tpr, p))/tpr for i in range(rounds)] # list of average of the trials in each round\n",
    "    return sum(L)/len(L), stdev(L) # returns first mean, then stdev\n",
    "\n",
    "#data_generation(80, 0.6)"
   ]
  },
  {
   "cell_type": "markdown",
   "metadata": {},
   "source": [
    "Some results: with 100 trials per round, and 50 rounds, I get\n",
    "board size  avg      stdev\n",
    "\n",
    "5           0.7344   0.0513\n",
    "10          0.7494   0.0465\n",
    "20          0.7554   0.0428\n",
    "40          0.7938   0.0479\n",
    "80          0.8396   0.0371"
   ]
  },
  {
   "cell_type": "code",
   "execution_count": 125,
   "metadata": {},
   "outputs": [
    {
     "data": {
      "image/png": "[encoded data removed]",
      "text/plain": [
       "<Figure size 432x288 with 1 Axes>"
      ]
     },
     "metadata": {
      "needs_background": "light"
     },
     "output_type": "display_data"
    }
   ],
   "source": [
    "x = [5, 10, 20, 40, 80]\n",
    "y = [ 0.7344, 0.7494, 0.7554, 0.7938, 0.8396]\n",
    "yerr = [0.0513, 0.0465, 0.0428, 0.0479, 0.0371]\n",
    "\n",
    "fig, ax = plt.subplots()\n",
    "#ax.plot(x, y, 'o')\n",
    "plt.errorbar(x,y, yerr=yerr, marker='o', capthick=2, capsize=4)\n",
    "ax.set_xlabel(\"board size \\n error bars are standard deviation\")\n",
    "ax.set_ylabel(\"average number of spanning clusters\");\n",
    "\n",
    "# ideally, this graph would have a log scale on the x-axis, not have the lines be connected\n",
    "\n",
    "# there is an upward trend, not a big one but definitely present"
   ]
  }
 ],
 "metadata": {
  "kernelspec": {
   "display_name": "Python 3",
   "language": "python",
   "name": "python3"
  },
  "language_info": {
   "codemirror_mode": {
    "name": "ipython",
    "version": 3
   },
   "file_extension": ".py",
   "mimetype": "text/x-python",
   "name": "python",
   "nbconvert_exporter": "python",
   "pygments_lexer": "ipython3",
   "version": "3.8.3"
  },
  "vscode": {
   "interpreter": {
    "hash": "40d3a090f54c6569ab1632332b64b2c03c39dcf918b08424e98f38b5ae0af88f"
   }
  }
 },
 "nbformat": 4,
 "nbformat_minor": 2
}
